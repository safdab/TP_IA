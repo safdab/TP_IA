{
  "nbformat": 4,
  "nbformat_minor": 0,
  "metadata": {
    "colab": {
      "name": "tp3_4_Text_Classification_Ohsumed.ipynb",
      "version": "0.3.2",
      "provenance": [],
      "collapsed_sections": []
    },
    "kernelspec": {
      "name": "python3",
      "display_name": "Python 3"
    }
  },
  "cells": [
    {
      "metadata": {
        "id": "DhDJAoZvPfCV",
        "colab_type": "code",
        "colab": {}
      },
      "cell_type": "code",
      "source": [
        "!tar -xvzf ohsumed-first-20000-docs.tar.gz"
      ],
      "execution_count": 0,
      "outputs": []
    },
    {
      "metadata": {
        "id": "mhPwVqA7STsV",
        "colab_type": "code",
        "colab": {
          "base_uri": "https://localhost:8080/",
          "height": 34
        },
        "outputId": "93f43e2f-3510-449e-e5b1-2af9d1c40fc7"
      },
      "cell_type": "code",
      "source": [
        "import os\n",
        "import io\n",
        "import math\n",
        "import nltk\n",
        "from __future__ import print_function\n",
        "\n",
        "from keras.preprocessing import sequence\n",
        "from keras.models import Sequential\n",
        "from keras.layers import Dense, Embedding\n",
        "\n",
        "\n",
        "from string import punctuation\n",
        "from nltk.corpus import stopwords\n",
        "from nltk.tokenize import sent_tokenize, word_tokenize\n",
        "from nltk.stem import PorterStemmer"
      ],
      "execution_count": 9,
      "outputs": [
        {
          "output_type": "stream",
          "text": [
            "Using TensorFlow backend.\n"
          ],
          "name": "stderr"
        }
      ]
    },
    {
      "metadata": {
        "id": "qJpm9epPVXjG",
        "colab_type": "code",
        "colab": {
          "base_uri": "https://localhost:8080/",
          "height": 218
        },
        "outputId": "dcd94b29-1ee6-49ea-f4eb-680adb35e3d9"
      },
      "cell_type": "code",
      "source": [
        "\n",
        "pathTrainingDir = 'ohsumed-first-20000-docs/training/'\n",
        "pathTestDir = 'ohsumed-first-20000-docs/Test'\n",
        "\n",
        "listCategories = os.listdir(pathTrainingDir)\n",
        "# Dictionnaire qui associe chaque categorie aux différents articles qui font référence à cette dernière\n",
        "dictCatgoriesAndArticles = {}\n",
        "\n",
        "for categorie in listCategories :\n",
        "  Newpath = pathTrainingDir+categorie+'/'\n",
        "  # Liste des fichiers contenus dans une categorie\n",
        "  articles = os.listdir(Newpath)\n",
        "  \n",
        "  for article in articles :\n",
        "    FilePath = Newpath + article\n",
        "    file = os.open(FilePath, 'r')\n",
        "    fileContent = file.read()\n",
        "    text_pos = nltk.word_tokenize(fileContent)\n",
        "    \n",
        "    \n",
        "  categorie = categorie.replace('C','')\n",
        "  dictCatgoriesAndArticles[categorie] = articles\n",
        "\n",
        " # Conversion des mots articles en entiers\n",
        "for item in dictCatgoriesAndArticles.items :\n",
        "  Newpath = item[0]\n",
        "\n",
        "   \n",
        "print(dictCatgoriesAndArticles.items())\n",
        "\n"
      ],
      "execution_count": 23,
      "outputs": [
        {
          "output_type": "error",
          "ename": "TypeError",
          "evalue": "ignored",
          "traceback": [
            "\u001b[0;31m---------------------------------------------------------------------------\u001b[0m",
            "\u001b[0;31mTypeError\u001b[0m                                 Traceback (most recent call last)",
            "\u001b[0;32m<ipython-input-23-de3021bdc676>\u001b[0m in \u001b[0;36m<module>\u001b[0;34m()\u001b[0m\n\u001b[1;32m     16\u001b[0m \u001b[0;34m\u001b[0m\u001b[0m\n\u001b[1;32m     17\u001b[0m \u001b[0;34m\u001b[0m\u001b[0m\n\u001b[0;32m---> 18\u001b[0;31m \u001b[0mprint\u001b[0m\u001b[0;34m(\u001b[0m\u001b[0mdictCatgoriesAndArticles\u001b[0m\u001b[0;34m.\u001b[0m\u001b[0mitems\u001b[0m\u001b[0;34m(\u001b[0m\u001b[0;34m)\u001b[0m\u001b[0;34m[\u001b[0m\u001b[0;36m0\u001b[0m\u001b[0;34m]\u001b[0m\u001b[0;34m)\u001b[0m\u001b[0;34m\u001b[0m\u001b[0;34m\u001b[0m\u001b[0m\n\u001b[0m\u001b[1;32m     19\u001b[0m \u001b[0;34m\u001b[0m\u001b[0m\n",
            "\u001b[0;31mTypeError\u001b[0m: 'dict_items' object does not support indexing"
          ]
        }
      ]
    },
    {
      "metadata": {
        "id": "1oOtWeOKgh0C",
        "colab_type": "code",
        "colab": {}
      },
      "cell_type": "code",
      "source": [
        ""
      ],
      "execution_count": 0,
      "outputs": []
    },
    {
      "metadata": {
        "id": "o6GtbEZBb_IT",
        "colab_type": "code",
        "colab": {
          "base_uri": "https://localhost:8080/",
          "height": 34
        },
        "outputId": "9127d31d-261c-4a2a-d603-79b52f213551"
      },
      "cell_type": "code",
      "source": [
        ""
      ],
      "execution_count": 4,
      "outputs": [
        {
          "output_type": "stream",
          "text": [
            "Object `listdir` not found.\n"
          ],
          "name": "stdout"
        }
      ]
    },
    {
      "metadata": {
        "id": "on4Q7JlAVNCc",
        "colab_type": "text"
      },
      "cell_type": "markdown",
      "source": [
        "# Preprocessing\n"
      ]
    }
  ]
}